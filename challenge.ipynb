{
 "cells": [
  {
   "cell_type": "code",
   "execution_count": null,
   "id": "a9b794ee",
   "metadata": {},
   "outputs": [],
   "source": [
    "### Importando bibliotecas\n",
    "import pandas as pd\n",
    "import matplotlib.pyplot as plt"
   ]
  },
  {
   "cell_type": "code",
   "execution_count": null,
   "id": "5d270125",
   "metadata": {},
   "outputs": [],
   "source": [
    "### Importando as bases de dados de exportacao\n",
    "df_exp_vin = pd.read_csv('https://raw.githubusercontent.com/erpereira/postech/refs/heads/main/data/ExpVinho.csv', sep='\\t', encoding='utf-8', index_col=None)\n",
    "df_exp_esp = pd.read_csv('https://raw.githubusercontent.com/erpereira/postech/refs/heads/main/data/ExpEspumantes.csv',  sep='\\t', encoding='utf-8', index_col=None)\n",
    "df_exp_suc = pd.read_csv('https://raw.githubusercontent.com/erpereira/postech/refs/heads/main/data/ExpSuco.csv',  sep='\\t', encoding='utf-8', index_col=None)\n",
    "df_exp_uva = pd.read_csv('https://raw.githubusercontent.com/erpereira/postech/refs/heads/main/data/ExpUva.csv',  sep='\\t', encoding='utf-8', index_col=None)"
   ]
  },
  {
   "cell_type": "code",
   "execution_count": null,
   "id": "f1c5d5a7",
   "metadata": {},
   "outputs": [],
   "source": [
    "### Criando coluna TIPO para identificacao\n",
    "df_exp_vin['tipo'] = 'Vinho'\n",
    "df_exp_esp['tipo'] = 'Espumante'\n",
    "df_exp_suc['tipo'] = 'Suco'\n",
    "df_exp_uva['tipo'] = 'Uva'"
   ]
  },
  {
   "cell_type": "code",
   "execution_count": null,
   "id": "427008ca",
   "metadata": {},
   "outputs": [],
   "source": [
    "### Definindo nomes para padronizacao das colunas\n",
    "new_columns = [\"id\", \"pais\"]\n",
    "years = [str(year) for year in range(1970, 2025)]\n",
    "for year in years:\n",
    "  new_columns.append(f\"{year}_A\")\n",
    "  new_columns.append(f\"{year}_B\")\n",
    "new_columns.append(\"tipo\")\n",
    "\n",
    "### Padronizando o nome das colunas\n",
    "df_exp_vin.columns = new_columns\n",
    "df_exp_esp.columns = new_columns\n",
    "df_exp_suc.columns = new_columns\n",
    "df_exp_uva.columns = new_columns"
   ]
  },
  {
   "cell_type": "code",
   "execution_count": null,
   "id": "6745258e",
   "metadata": {},
   "outputs": [],
   "source": [
    "### Juntando as bases formando unica base de exportacao\n",
    "frames = [df_exp_vin, df_exp_esp, df_exp_suc, df_exp_uva]\n",
    "df = pd.concat(frames)\n",
    "print(df_exp_vin.shape)\n",
    "print(df_exp_esp.shape)\n",
    "print(df_exp_suc.shape)\n",
    "print(df_exp_uva.shape)\n",
    "df.shape"
   ]
  },
  {
   "cell_type": "code",
   "execution_count": null,
   "id": "45f04770",
   "metadata": {},
   "outputs": [],
   "source": [
    "### Transpondo linhas e colunas\n",
    "\n",
    "df_exp = []\n",
    "for index, row in df.iterrows():\n",
    "  id =  row['id']\n",
    "  pais = (row['pais'])\n",
    "  tipo = row['tipo']\n",
    "  for year in years:\n",
    "    year = pd.to_numeric(year)\n",
    "    quant = row[f\"{year}_A\"]\n",
    "    valor = row[f\"{year}_B\"]\n",
    "    df_exp.append([id,pais,tipo,year,quant,valor])\n",
    "\n",
    "df_exp = pd.DataFrame(df_exp)\n",
    "df_exp.columns = ['id','pais','tipo','ano','quant','valor']"
   ]
  },
  {
   "cell_type": "code",
   "execution_count": null,
   "id": "a1f93ec1",
   "metadata": {},
   "outputs": [],
   "source": [
    "### Exportando base geral em formato csv\n",
    "#df_exp.to_csv('/Users/emersonpereira/Documents/learning/postech/data/df_exp.csv', sep=';', encoding='utf-8')"
   ]
  },
  {
   "cell_type": "code",
   "execution_count": null,
   "id": "35af913e",
   "metadata": {},
   "outputs": [],
   "source": [
    "df_a = pd.read_csv(\"https://raw.githubusercontent.com/erpereira/postech/refs/heads/main/data/df_exp.csv\", sep=\";\")"
   ]
  },
  {
   "cell_type": "code",
   "execution_count": null,
   "id": "2fa3b72e",
   "metadata": {},
   "outputs": [],
   "source": [
    "df_a"
   ]
  },
  {
   "cell_type": "code",
   "execution_count": null,
   "id": "ec45e934",
   "metadata": {},
   "outputs": [],
   "source": []
  }
 ],
 "metadata": {
  "kernelspec": {
   "display_name": "base",
   "language": "python",
   "name": "python3"
  },
  "language_info": {
   "codemirror_mode": {
    "name": "ipython",
    "version": 3
   },
   "file_extension": ".py",
   "mimetype": "text/x-python",
   "name": "python",
   "nbconvert_exporter": "python",
   "pygments_lexer": "ipython3",
   "version": "3.9.13"
  }
 },
 "nbformat": 4,
 "nbformat_minor": 5
}
